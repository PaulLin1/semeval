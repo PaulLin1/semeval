{
 "cells": [
  {
   "cell_type": "code",
   "execution_count": 57,
   "id": "da529f8e-be47-42d3-9e91-42464e6a806a",
   "metadata": {},
   "outputs": [],
   "source": [
    "import json"
   ]
  },
  {
   "cell_type": "code",
   "execution_count": 58,
   "id": "839de64e-0a87-48a4-864a-ce14261260db",
   "metadata": {},
   "outputs": [],
   "source": [
    "import pandas as pd"
   ]
  },
  {
   "cell_type": "code",
   "execution_count": 59,
   "id": "90d0f2bf-dd92-456f-9ed6-3e66569d9b65",
   "metadata": {},
   "outputs": [],
   "source": [
    "from openai import OpenAI\n",
    "api_key = \"\""
   ]
  },
  {
   "cell_type": "code",
   "execution_count": 60,
   "id": "da0b9012-0ba1-404f-9e14-5b8a6bef1506",
   "metadata": {},
   "outputs": [],
   "source": [
    "train_df = pd.read_csv('reasoning.csv')"
   ]
  },
  {
   "cell_type": "code",
   "execution_count": 61,
   "id": "d3e98e92-db3e-49da-97cc-1c55d26111a2",
   "metadata": {},
   "outputs": [],
   "source": [
    "import pandas as pd\n",
    "import json\n",
    "from langchain.embeddings import OpenAIEmbeddings\n",
    "from langchain.vectorstores import FAISS\n",
    "from langchain.text_splitter import CharacterTextSplitter\n",
    "from langchain.docstore.document import Document\n",
    "\n",
    "emotions = ['anger', 'fear', 'joy', 'sadness', 'surprise']\n",
    "\n",
    "def extract_features_labels(df):\n",
    "    train_labels = df[emotions].values.tolist()\n",
    "    train_text = df['text'].tolist()\n",
    "    reasoning = df['reasoning'].tolist()\n",
    "\n",
    "    data = []\n",
    "    for t, l, r in zip(train_text, train_labels, reasoning):\n",
    "        data.append({\n",
    "            'text': t,\n",
    "            'label': l,\n",
    "            'reasoning': r\n",
    "        })\n",
    "\n",
    "    with open(\"data/train_features_labels.json\", \"w\") as file:\n",
    "        json.dump(data, file, indent=4)\n",
    "\n",
    "def load_and_store():\n",
    "    with open(\"data/train_features_labels.json\", \"r\") as file:\n",
    "        data = json.load(file)\n",
    "    \n",
    "    docs = [\n",
    "        Document(page_content=item[\"text\"], metadata={\"label\": item[\"label\"], \"reasoning\": item[\"reasoning\"]})\n",
    "        for item in data\n",
    "    ]    \n",
    "    text_splitter = CharacterTextSplitter(chunk_size=500, chunk_overlap=50)\n",
    "    split_docs = text_splitter.split_documents(docs)\n",
    "    \n",
    "    embeddings = OpenAIEmbeddings(model=\"text-embedding-ada-002\", openai_api_key=api_key)\n",
    "    vector_db = FAISS.from_documents(split_docs, embeddings)\n",
    "    vector_db.save_local(\"data/faiss_index\")"
   ]
  },
  {
   "cell_type": "code",
   "execution_count": 62,
   "id": "76a8c546-64bd-4cf7-966f-10ca1603e7c8",
   "metadata": {},
   "outputs": [],
   "source": [
    "extract_features_labels(train_df)\n",
    "load_and_store()"
   ]
  },
  {
   "cell_type": "code",
   "execution_count": 63,
   "id": "416663c4-ded6-4722-a184-a0c895cff923",
   "metadata": {},
   "outputs": [],
   "source": [
    "def retrieve_similar(query_text, k=3):\n",
    "    embeddings = OpenAIEmbeddings(model=\"text-embedding-ada-002\", openai_api_key=api_key)\n",
    "    vector_db = FAISS.load_local(\"data/faiss_index\", embeddings, allow_dangerous_deserialization=True)\n",
    "    results = vector_db.similarity_search(query_text, k=k)\n",
    "    \n",
    "    for i, doc in enumerate(results):\n",
    "        print(doc.page_content, doc.metadata['label'], doc.metadata['reasoning'])\n",
    "    return results"
   ]
  },
  {
   "cell_type": "code",
   "execution_count": 64,
   "id": "09b880c5-9696-4f45-9d4c-049b5b6a8c05",
   "metadata": {},
   "outputs": [
    {
     "name": "stdout",
     "output_type": "stream",
     "text": [
      "A smile spread across my face. [0, 0, 1, 0, 0] Tweet: \"A smile spread across my face.\"\n",
      "Explanation: The tweet \"A smile spread across my face\" clearly conveys joy through the explicit mention of a smile, which is commonly associated with happiness and positive emotions. The phrase suggests a spontaneous and genuine reaction, highlighting a moment of delight. The tone is upbeat and positive, with no hint of negative or distressing language that could indicate anger, fear, sadness, or surprise. Overall, the straightforward expression of a joyful physical response reinforces its categorization in joy, while excluding other emotions.\n",
      "Emotions: ['joy']\n",
      "\n",
      "\n",
      "My heart is aching today. [0, 1, 0, 1, 0] Tweet: \"My heart is aching today.\"\n",
      "Explanation: The phrase \"My heart is aching today\" conveys a deep sense of emotional pain, directly indicating sadness through the metaphor of a heartache, which is commonly associated with grief or sorrow. The use of the word \"aching\" suggests a heavy burden, which aligns with feelings of sadness. The tone is somber and heavy, which could also elicit a sense of fear about the underlying reasons for this emotional state, such as confronting personal issues or loss. However, the absence of more intense vocabulary or exclamatory punctuation signifies that while there is sadness, it may not escalate into anger or overwhelming fear, focusing more on the personal emotional struggle.\n",
      "Emotions: ['fear', 'sadness']\n",
      "\n",
      "\n",
      "my heart's finally starting to feel at peace and everything that used to feel wrong is suddenly starting to feel really right. [0, 0, 1, 0, 0] Tweet: \"my heart's finally starting to feel at peace and everything that used to feel wrong is suddenly starting to feel really right.\"\n",
      "Explanation: The tweet conveys joy primarily through the phrases \"my heart's finally starting to feel at peace\" and \"everything that used to feel wrong is suddenly starting to feel really right,\" which express a sense of relief and happiness. The positive language and the shift from negativity to positivity indicate a transformation that evokes a joyful sentiment. The use of \"finally\" suggests a culmination of struggle leading to a rewarding emotional state, enhancing the joyful tone. Additionally, there are no words or tones conveying anger, fear, sadness, or surprise, making joy the clear emotion expressed.\n",
      "Emotions: ['joy']\n",
      "\n",
      "\n"
     ]
    }
   ],
   "source": [
    "query = \"I am feeling very happy today!\"\n",
    "q = retrieve_similar(query)"
   ]
  },
  {
   "cell_type": "code",
   "execution_count": null,
   "id": "6b19f05e-c328-4c8e-84a5-eea50b114c07",
   "metadata": {},
   "outputs": [],
   "source": []
  }
 ],
 "metadata": {
  "kernelspec": {
   "display_name": "Python 3 (ipykernel)",
   "language": "python",
   "name": "python3"
  },
  "language_info": {
   "codemirror_mode": {
    "name": "ipython",
    "version": 3
   },
   "file_extension": ".py",
   "mimetype": "text/x-python",
   "name": "python",
   "nbconvert_exporter": "python",
   "pygments_lexer": "ipython3",
   "version": "3.12.7"
  }
 },
 "nbformat": 4,
 "nbformat_minor": 5
}
