{
 "cells": [
  {
   "cell_type": "code",
   "execution_count": 1,
   "id": "e3115058-3fbc-4e2a-b8c4-39af2112623f",
   "metadata": {},
   "outputs": [],
   "source": [
    "import pandas as pd\n",
    "import numpy as np"
   ]
  },
  {
   "cell_type": "code",
   "execution_count": 2,
   "id": "df168a9d-69cb-4b5d-b4f1-03532f74fe5f",
   "metadata": {},
   "outputs": [],
   "source": [
    "emotions = ['anger', 'fear', 'joy', 'sadness', 'surprise']"
   ]
  },
  {
   "cell_type": "code",
   "execution_count": null,
   "id": "80e94961-62dc-4a8e-97ba-e8fd4b02ce2b",
   "metadata": {},
   "outputs": [],
   "source": [
    "api_key = \"\""
   ]
  },
  {
   "cell_type": "code",
   "execution_count": 4,
   "id": "cb5e90ce-dd71-4f5e-b0ff-acc5e1c9a5df",
   "metadata": {},
   "outputs": [],
   "source": [
    "test_df = pd.read_csv('test1.csv')\n",
    "\n",
    "test_text = []\n",
    "\n",
    "for idx, row in test_df.iterrows():\n",
    "    test_text.append(row['text'])"
   ]
  },
  {
   "cell_type": "code",
   "execution_count": 5,
   "id": "4e9993fd-0a51-4446-931d-f107dfb8716f",
   "metadata": {},
   "outputs": [],
   "source": [
    "from openai import OpenAI\n",
    "client = OpenAI(api_key=api_key)"
   ]
  },
  {
   "cell_type": "code",
   "execution_count": 6,
   "id": "14e5c7eb-35ba-416c-a498-51e06ed6f4c2",
   "metadata": {},
   "outputs": [],
   "source": [
    "import pandas as pd\n",
    "import json\n",
    "from langchain.embeddings import OpenAIEmbeddings\n",
    "from langchain.vectorstores import FAISS\n",
    "from langchain.text_splitter import CharacterTextSplitter\n",
    "from langchain.docstore.document import Document\n",
    "\n",
    "def retrieve_similar(query_text, k=5):\n",
    "    embeddings = OpenAIEmbeddings(model=\"text-embedding-ada-002\", openai_api_key=api_key)\n",
    "    vector_db = FAISS.load_local(\"faiss_index\", embeddings, allow_dangerous_deserialization=True)\n",
    "    results = vector_db.similarity_search(query_text, k=k)\n",
    "\n",
    "    out = []\n",
    "    for i, doc in enumerate(results):\n",
    "        out.append((doc.page_content, doc.metadata['label'], doc.metadata['reasoning']))\n",
    "    return out"
   ]
  },
  {
   "cell_type": "code",
   "execution_count": 17,
   "id": "d3fdc44a-592b-45c7-8d90-08bb5fb5cc33",
   "metadata": {},
   "outputs": [
    {
     "name": "stdout",
     "output_type": "stream",
     "text": [
      "0\n",
      "200\n",
      "400\n",
      "600\n",
      "800\n",
      "1000\n",
      "1200\n"
     ]
    }
   ],
   "source": [
    "# Parse response\n",
    "import ast\n",
    "import re\n",
    "\n",
    "preds = {}\n",
    "for idx, p in enumerate(test_text):\n",
    "    if idx % 200 == 0:\n",
    "        print(idx)\n",
    "        \n",
    "    example = retrieve_similar(p)\n",
    "    reasoning = '\\n'.join(i[2] for i in example)\n",
    "    \n",
    "    prompt2 = f\"\"\"    \n",
    "    Task: Classify tweets according to the emotions likely experienced by the author while writing them.\n",
    "    \n",
    "    Available Emotions:\n",
    "    - Joy\n",
    "    - Fear\n",
    "    - Anger\n",
    "    - Sadness\n",
    "    - Surprise\n",
    "    \n",
    "    Classification Rules:\n",
    "    1. Focus on the author's emotional state, not your reaction as a reader\n",
    "    2. A tweet can contain multiple emotions simultaneously\n",
    "    3. Consider both explicit emotional words and implicit context\n",
    "    4. Identify emotional indicators only when they are strongly supported by explicit or contextually clear evidence.\n",
    "    5. The only emotions you are categorizing are 'anger', 'fear', 'joy', 'sadness', and 'surprise'\n",
    "    6. Slight emotions do count. However, make sure to add your reasoning to why you think it is present.\n",
    "    7. The dataset is classified by 3 different humans. They may have biases. Use the examples to assist you in predicting what THE HUMANS LABELERS would classify the emotions as.\n",
    "\n",
    "    Thinking Process:\n",
    "    1. Go through every emotion and think step by step if the emotion is in the tweet.\n",
    "    2. Think of every possible tone or context the author has.\n",
    "\n",
    "    After making initial analysis, explicitly ask:\n",
    "    1. \"Am I confident in this conclusion?\"\n",
    "    2. \"What evidence supports or contradicts this?\"\n",
    "    3. \"What assumptions am I making?\"\n",
    "    4. \"Would a reasonable person with no background context agree that this emotion is clearly present based solely on the tweet?\"\n",
    "        \n",
    "    After asking those questions, make your final prediction.\n",
    "    \n",
    "    Output Format:\n",
    "    For each tweet, provide:\n",
    "    1. A clear explanation of why each emotion was identified, referencing specific words or phrases from the tweet and other reasoning from the guidelines.\n",
    "    2. The emotions detected [in brackets], with quotes around each emotion. Like this: ['joy', 'sadness']\n",
    "    \n",
    "    Examples:\n",
    "    {reasoning}\n",
    "\n",
    "    Please classify the following tweet:\n",
    "    {p}\n",
    "\n",
    "    \"\"\"\n",
    "\n",
    "\n",
    "    completion = client.chat.completions.create(\n",
    "        model=\"gpt-4o-mini\",\n",
    "        store=True,\n",
    "        messages=[\n",
    "            {\"role\": \"user\", \"content\": prompt2}\n",
    "        ]\n",
    "    )\n",
    "    # out = ast.literal_eval(re.findall(r'\\[.*?\\]', completion.choices[0].message.content)[0]) \n",
    "    preds.update({idx: completion})"
   ]
  },
  {
   "cell_type": "code",
   "execution_count": 70,
   "id": "689d9ad8-2f16-4fcd-9be0-625c9185d5aa",
   "metadata": {},
   "outputs": [],
   "source": [
    "q = [i.choices[0].message.content for i in preds_list]"
   ]
  },
  {
   "cell_type": "code",
   "execution_count": 59,
   "id": "053fe07b-374e-422c-9d2c-87b575bae019",
   "metadata": {},
   "outputs": [
    {
     "name": "stdout",
     "output_type": "stream",
     "text": [
      "[\"['fear', 'anger']\"]\n",
      "['fear', 'anger']\n"
     ]
    }
   ],
   "source": [
    "for i in q:\n",
    "    print(re.findall(r'\\[.*?\\]', i))\n",
    "    k = ast.literal_eval(re.findall(r'\\[.*?\\]', i)[0])\n",
    "    print(k)\n",
    "    break"
   ]
  },
  {
   "cell_type": "code",
   "execution_count": 75,
   "id": "84e102b9-198f-4abc-b495-61bd4ab5e80a",
   "metadata": {},
   "outputs": [],
   "source": [
    "# preds_list = list(preds.values())\n",
    "cleaned = [ast.literal_eval(re.findall(r'\\[.*?\\]', i)[0]) for i in q]\n",
    "\n",
    "binary_preds = []\n",
    "for i in cleaned:\n",
    "    pred = []\n",
    "    for emotion in emotions:\n",
    "        if emotion in i:\n",
    "            pred.append(1)\n",
    "        else:\n",
    "            pred.append(0)\n",
    "    binary_preds.append(pred)"
   ]
  },
  {
   "cell_type": "code",
   "execution_count": 71,
   "id": "31034c5f-9c33-4350-8042-6f3b91bfad5c",
   "metadata": {},
   "outputs": [
    {
     "data": {
      "text/plain": [
       "['fear', 'sadness']"
      ]
     },
     "execution_count": 71,
     "metadata": {},
     "output_type": "execute_result"
    }
   ],
   "source": [
    "# ast.literal_eval(re.findall(r'\\[.*?\\]', q[1])[0])"
   ]
  },
  {
   "cell_type": "code",
   "execution_count": 76,
   "id": "44c52c88-e954-44a7-8cea-147792774171",
   "metadata": {},
   "outputs": [
    {
     "data": {
      "text/plain": [
       "[0, 1, 0, 1, 0]"
      ]
     },
     "execution_count": 76,
     "metadata": {},
     "output_type": "execute_result"
    }
   ],
   "source": [
    "binary_preds[1]"
   ]
  },
  {
   "cell_type": "code",
   "execution_count": 77,
   "id": "96b87c4b-eac0-4c57-8081-83e9fcd6d74a",
   "metadata": {},
   "outputs": [],
   "source": [
    "qk = []\n",
    "\n",
    "for idx, row in test_df.iterrows():\n",
    "    id = row['id']\n",
    "    qk.append([id] + binary_preds[idx])\n",
    "\n",
    "output_df = pd.DataFrame(qk, columns=['id', 'Anger', 'Fear', 'Joy', 'Sadness', 'Surprise'])\n"
   ]
  },
  {
   "cell_type": "code",
   "execution_count": 78,
   "id": "04c9a43e-7ca4-4faf-bc21-a9c79e5362a5",
   "metadata": {},
   "outputs": [
    {
     "data": {
      "text/html": [
       "<div>\n",
       "<style scoped>\n",
       "    .dataframe tbody tr th:only-of-type {\n",
       "        vertical-align: middle;\n",
       "    }\n",
       "\n",
       "    .dataframe tbody tr th {\n",
       "        vertical-align: top;\n",
       "    }\n",
       "\n",
       "    .dataframe thead th {\n",
       "        text-align: right;\n",
       "    }\n",
       "</style>\n",
       "<table border=\"1\" class=\"dataframe\">\n",
       "  <thead>\n",
       "    <tr style=\"text-align: right;\">\n",
       "      <th></th>\n",
       "      <th>id</th>\n",
       "      <th>Anger</th>\n",
       "      <th>Fear</th>\n",
       "      <th>Joy</th>\n",
       "      <th>Sadness</th>\n",
       "      <th>Surprise</th>\n",
       "    </tr>\n",
       "  </thead>\n",
       "  <tbody>\n",
       "    <tr>\n",
       "      <th>0</th>\n",
       "      <td>eng_test_track_a_00001</td>\n",
       "      <td>1</td>\n",
       "      <td>1</td>\n",
       "      <td>0</td>\n",
       "      <td>0</td>\n",
       "      <td>0</td>\n",
       "    </tr>\n",
       "    <tr>\n",
       "      <th>1</th>\n",
       "      <td>eng_test_track_a_00002</td>\n",
       "      <td>0</td>\n",
       "      <td>1</td>\n",
       "      <td>0</td>\n",
       "      <td>1</td>\n",
       "      <td>0</td>\n",
       "    </tr>\n",
       "    <tr>\n",
       "      <th>2</th>\n",
       "      <td>eng_test_track_a_00003</td>\n",
       "      <td>1</td>\n",
       "      <td>0</td>\n",
       "      <td>0</td>\n",
       "      <td>0</td>\n",
       "      <td>0</td>\n",
       "    </tr>\n",
       "    <tr>\n",
       "      <th>3</th>\n",
       "      <td>eng_test_track_a_00004</td>\n",
       "      <td>0</td>\n",
       "      <td>0</td>\n",
       "      <td>0</td>\n",
       "      <td>1</td>\n",
       "      <td>0</td>\n",
       "    </tr>\n",
       "    <tr>\n",
       "      <th>4</th>\n",
       "      <td>eng_test_track_a_00005</td>\n",
       "      <td>0</td>\n",
       "      <td>0</td>\n",
       "      <td>1</td>\n",
       "      <td>1</td>\n",
       "      <td>0</td>\n",
       "    </tr>\n",
       "    <tr>\n",
       "      <th>...</th>\n",
       "      <td>...</td>\n",
       "      <td>...</td>\n",
       "      <td>...</td>\n",
       "      <td>...</td>\n",
       "      <td>...</td>\n",
       "      <td>...</td>\n",
       "    </tr>\n",
       "    <tr>\n",
       "      <th>1345</th>\n",
       "      <td>eng_test_track_a_01346</td>\n",
       "      <td>0</td>\n",
       "      <td>1</td>\n",
       "      <td>0</td>\n",
       "      <td>0</td>\n",
       "      <td>0</td>\n",
       "    </tr>\n",
       "    <tr>\n",
       "      <th>1346</th>\n",
       "      <td>eng_test_track_a_01347</td>\n",
       "      <td>0</td>\n",
       "      <td>1</td>\n",
       "      <td>0</td>\n",
       "      <td>0</td>\n",
       "      <td>0</td>\n",
       "    </tr>\n",
       "    <tr>\n",
       "      <th>1347</th>\n",
       "      <td>eng_test_track_a_01348</td>\n",
       "      <td>0</td>\n",
       "      <td>0</td>\n",
       "      <td>0</td>\n",
       "      <td>1</td>\n",
       "      <td>0</td>\n",
       "    </tr>\n",
       "    <tr>\n",
       "      <th>1348</th>\n",
       "      <td>eng_test_track_a_01349</td>\n",
       "      <td>0</td>\n",
       "      <td>0</td>\n",
       "      <td>1</td>\n",
       "      <td>0</td>\n",
       "      <td>0</td>\n",
       "    </tr>\n",
       "    <tr>\n",
       "      <th>1349</th>\n",
       "      <td>eng_test_track_a_01350</td>\n",
       "      <td>0</td>\n",
       "      <td>1</td>\n",
       "      <td>0</td>\n",
       "      <td>0</td>\n",
       "      <td>0</td>\n",
       "    </tr>\n",
       "  </tbody>\n",
       "</table>\n",
       "<p>1350 rows × 6 columns</p>\n",
       "</div>"
      ],
      "text/plain": [
       "                          id  Anger  Fear  Joy  Sadness  Surprise\n",
       "0     eng_test_track_a_00001      1     1    0        0         0\n",
       "1     eng_test_track_a_00002      0     1    0        1         0\n",
       "2     eng_test_track_a_00003      1     0    0        0         0\n",
       "3     eng_test_track_a_00004      0     0    0        1         0\n",
       "4     eng_test_track_a_00005      0     0    1        1         0\n",
       "...                      ...    ...   ...  ...      ...       ...\n",
       "1345  eng_test_track_a_01346      0     1    0        0         0\n",
       "1346  eng_test_track_a_01347      0     1    0        0         0\n",
       "1347  eng_test_track_a_01348      0     0    0        1         0\n",
       "1348  eng_test_track_a_01349      0     0    1        0         0\n",
       "1349  eng_test_track_a_01350      0     1    0        0         0\n",
       "\n",
       "[1350 rows x 6 columns]"
      ]
     },
     "execution_count": 78,
     "metadata": {},
     "output_type": "execute_result"
    }
   ],
   "source": [
    "# output_df = output_df.drop('text', axis=1)\n",
    "output_df"
   ]
  },
  {
   "cell_type": "code",
   "execution_count": 79,
   "id": "89fb653c-561f-41e2-9fbe-fcdd5c29c365",
   "metadata": {},
   "outputs": [],
   "source": [
    "output_df.to_csv('1_results.csv', index=False)"
   ]
  },
  {
   "cell_type": "code",
   "execution_count": null,
   "id": "175dfe35-de23-420e-8f02-af469a396cb9",
   "metadata": {},
   "outputs": [],
   "source": []
  }
 ],
 "metadata": {
  "kernelspec": {
   "display_name": "test",
   "language": "python",
   "name": "test"
  },
  "language_info": {
   "codemirror_mode": {
    "name": "ipython",
    "version": 3
   },
   "file_extension": ".py",
   "mimetype": "text/x-python",
   "name": "python",
   "nbconvert_exporter": "python",
   "pygments_lexer": "ipython3",
   "version": "3.10.12"
  }
 },
 "nbformat": 4,
 "nbformat_minor": 5
}
